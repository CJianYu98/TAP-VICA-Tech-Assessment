{
 "cells": [
  {
   "cell_type": "markdown",
   "metadata": {},
   "source": [
    "# GovTech TAP VICA Tech Assessment (Insurance Analysis)"
   ]
  },
  {
   "cell_type": "code",
   "execution_count": 21,
   "metadata": {},
   "outputs": [],
   "source": [
    "from pprint import pprint\n",
    "\n",
    "import pandas as pd\n",
    "from sklearn import preprocessing"
   ]
  },
  {
   "cell_type": "markdown",
   "metadata": {},
   "source": [
    "## EDA and Data Cleaning"
   ]
  },
  {
   "cell_type": "markdown",
   "metadata": {},
   "source": [
    "### Load dataset"
   ]
  },
  {
   "cell_type": "code",
   "execution_count": 22,
   "metadata": {},
   "outputs": [
    {
     "data": {
      "text/html": [
       "<div>\n",
       "<style scoped>\n",
       "    .dataframe tbody tr th:only-of-type {\n",
       "        vertical-align: middle;\n",
       "    }\n",
       "\n",
       "    .dataframe tbody tr th {\n",
       "        vertical-align: top;\n",
       "    }\n",
       "\n",
       "    .dataframe thead th {\n",
       "        text-align: right;\n",
       "    }\n",
       "</style>\n",
       "<table border=\"1\" class=\"dataframe\">\n",
       "  <thead>\n",
       "    <tr style=\"text-align: right;\">\n",
       "      <th></th>\n",
       "      <th>insuree#</th>\n",
       "      <th>gender</th>\n",
       "      <th>is45OrOlder</th>\n",
       "      <th>isMarried</th>\n",
       "      <th>hasKids</th>\n",
       "      <th>insuredMonths</th>\n",
       "      <th>termLifeInsurance</th>\n",
       "      <th>multipleTermLifePolicies</th>\n",
       "      <th>healthInsurance</th>\n",
       "      <th>healthRiders</th>\n",
       "      <th>premiumFrequency</th>\n",
       "      <th>eStatements</th>\n",
       "      <th>monthlyPremium</th>\n",
       "      <th>totalPremium</th>\n",
       "      <th>renewal</th>\n",
       "    </tr>\n",
       "  </thead>\n",
       "  <tbody>\n",
       "    <tr>\n",
       "      <th>0</th>\n",
       "      <td>1</td>\n",
       "      <td>F</td>\n",
       "      <td>0.0</td>\n",
       "      <td>Yes</td>\n",
       "      <td>Yes</td>\n",
       "      <td>23</td>\n",
       "      <td>Yes</td>\n",
       "      <td>No</td>\n",
       "      <td>No</td>\n",
       "      <td>NaN</td>\n",
       "      <td>12.0</td>\n",
       "      <td>Yes</td>\n",
       "      <td>19,65</td>\n",
       "      <td>451,55</td>\n",
       "      <td>Y</td>\n",
       "    </tr>\n",
       "    <tr>\n",
       "      <th>1</th>\n",
       "      <td>2</td>\n",
       "      <td>F</td>\n",
       "      <td>1.0</td>\n",
       "      <td>No</td>\n",
       "      <td>No</td>\n",
       "      <td>42</td>\n",
       "      <td>Yes</td>\n",
       "      <td>Yes</td>\n",
       "      <td>Class A</td>\n",
       "      <td>3</td>\n",
       "      <td>1.0</td>\n",
       "      <td>Yes</td>\n",
       "      <td>84,65</td>\n",
       "      <td>3541,35</td>\n",
       "      <td>N</td>\n",
       "    </tr>\n",
       "    <tr>\n",
       "      <th>2</th>\n",
       "      <td>3</td>\n",
       "      <td>F</td>\n",
       "      <td>0.0</td>\n",
       "      <td>Yes</td>\n",
       "      <td>No</td>\n",
       "      <td>72</td>\n",
       "      <td>Yes</td>\n",
       "      <td>No</td>\n",
       "      <td>No</td>\n",
       "      <td>NaN</td>\n",
       "      <td>12.0</td>\n",
       "      <td>No</td>\n",
       "      <td>19,4</td>\n",
       "      <td>1496,45</td>\n",
       "      <td>Y</td>\n",
       "    </tr>\n",
       "  </tbody>\n",
       "</table>\n",
       "</div>"
      ],
      "text/plain": [
       "   insuree# gender  is45OrOlder isMarried hasKids  insuredMonths  \\\n",
       "0         1      F          0.0       Yes     Yes             23   \n",
       "1         2      F          1.0        No      No             42   \n",
       "2         3      F          0.0       Yes      No             72   \n",
       "\n",
       "  termLifeInsurance multipleTermLifePolicies healthInsurance healthRiders  \\\n",
       "0               Yes                       No              No          NaN   \n",
       "1               Yes                      Yes         Class A            3   \n",
       "2               Yes                       No              No          NaN   \n",
       "\n",
       "   premiumFrequency eStatements monthlyPremium totalPremium renewal  \n",
       "0              12.0         Yes          19,65       451,55       Y  \n",
       "1               1.0         Yes          84,65      3541,35       N  \n",
       "2              12.0          No           19,4      1496,45       Y  "
      ]
     },
     "execution_count": 22,
     "metadata": {},
     "output_type": "execute_result"
    }
   ],
   "source": [
    "df_raw = pd.read_csv(\"./insurance_data.csv\", sep=\";\")\n",
    "df_raw.head(3)"
   ]
  },
  {
   "cell_type": "markdown",
   "metadata": {},
   "source": [
    "**Thinking process** <br>\n",
    "\n",
    "At a first look at the data we have, I found that \"insuree#\" column is just insuree id and is not relevant to our analysis or modelling. We can drop this column."
   ]
  },
  {
   "cell_type": "code",
   "execution_count": 23,
   "metadata": {},
   "outputs": [
    {
     "name": "stdout",
     "output_type": "stream",
     "text": [
      "<class 'pandas.core.frame.DataFrame'>\n",
      "RangeIndex: 5500 entries, 0 to 5499\n",
      "Data columns (total 15 columns):\n",
      " #   Column                    Non-Null Count  Dtype  \n",
      "---  ------                    --------------  -----  \n",
      " 0   insuree#                  5500 non-null   int64  \n",
      " 1   gender                    5387 non-null   object \n",
      " 2   is45OrOlder               5404 non-null   float64\n",
      " 3   isMarried                 5500 non-null   object \n",
      " 4   hasKids                   5500 non-null   object \n",
      " 5   insuredMonths             5500 non-null   int64  \n",
      " 6   termLifeInsurance         5500 non-null   object \n",
      " 7   multipleTermLifePolicies  5500 non-null   object \n",
      " 8   healthInsurance           5500 non-null   object \n",
      " 9   healthRiders              3518 non-null   object \n",
      " 10  premiumFrequency          5386 non-null   float64\n",
      " 11  eStatements               5500 non-null   object \n",
      " 12  monthlyPremium            5500 non-null   object \n",
      " 13  totalPremium              5500 non-null   object \n",
      " 14  renewal                   5500 non-null   object \n",
      "dtypes: float64(2), int64(2), object(11)\n",
      "memory usage: 644.7+ KB\n"
     ]
    }
   ],
   "source": [
    "df_raw.info()"
   ]
  },
  {
   "cell_type": "markdown",
   "metadata": {},
   "source": [
    "**Thinking process** <br>\n",
    "\n",
    "- We can see that there are missing values for variables \"gender\", \"is45OrOlder\", \"premiumFrequency\" and \"healthRiders\"\n",
    "- For variable \"healthRiders\", rows with missing value indicates that an insuree does not have any riders on his health insurance policy\n",
    "- Given little domain knowledge about insurance industry and no extra context/information given, I decide to drop rows with missing values for variables \"gender\", \"is45OrOlder\" and \"premiumFrequency\" instead of filling with values (such as mean/median or 0 value) to prevent adding inaccurate information and noise to the data"
   ]
  },
  {
   "cell_type": "markdown",
   "metadata": {},
   "source": [
    "### Drop irrelavant columns and rows with missing values"
   ]
  },
  {
   "cell_type": "code",
   "execution_count": 32,
   "metadata": {},
   "outputs": [
    {
     "name": "stdout",
     "output_type": "stream",
     "text": [
      "Number of rows dropped: 320\n",
      "<class 'pandas.core.frame.DataFrame'>\n",
      "Int64Index: 5180 entries, 0 to 5499\n",
      "Data columns (total 14 columns):\n",
      " #   Column                    Non-Null Count  Dtype  \n",
      "---  ------                    --------------  -----  \n",
      " 0   gender                    5180 non-null   object \n",
      " 1   is45OrOlder               5180 non-null   float64\n",
      " 2   isMarried                 5180 non-null   object \n",
      " 3   hasKids                   5180 non-null   object \n",
      " 4   insuredMonths             5180 non-null   int64  \n",
      " 5   termLifeInsurance         5180 non-null   object \n",
      " 6   multipleTermLifePolicies  5180 non-null   object \n",
      " 7   healthInsurance           5180 non-null   object \n",
      " 8   healthRiders              3309 non-null   object \n",
      " 9   premiumFrequency          5180 non-null   float64\n",
      " 10  eStatements               5180 non-null   object \n",
      " 11  monthlyPremium            5180 non-null   object \n",
      " 12  totalPremium              5180 non-null   object \n",
      " 13  renewal                   5180 non-null   object \n",
      "dtypes: float64(2), int64(1), object(11)\n",
      "memory usage: 607.0+ KB\n"
     ]
    }
   ],
   "source": [
    "# Drop \"insuree#\" column\n",
    "df = df_raw.drop([\"insuree#\"], axis=1)\n",
    "\n",
    "# Drop rows with missing values, except for \"heathRiders\" variable\n",
    "df = df.dropna(subset=[\"gender\", \"is45OrOlder\", \"premiumFrequency\"])\n",
    "\n",
    "print(f\"Number of rows dropped: {len(df_raw) - len(df)}\")\n",
    "\n",
    "df.info()"
   ]
  },
  {
   "cell_type": "markdown",
   "metadata": {},
   "source": [
    "**Thinking process** <br>\n",
    "\n",
    "- Number of rows dropped: 320\n",
    "- Variables \"monthlyPremium\" and \"totalPremium\" should be of integer data type\n",
    "- For categorical variables, we can print all the unique values for each variable to have a better understanding"
   ]
  },
  {
   "cell_type": "markdown",
   "metadata": {},
   "source": [
    "### Get unique values for categorical variables"
   ]
  },
  {
   "cell_type": "code",
   "execution_count": 25,
   "metadata": {},
   "outputs": [
    {
     "name": "stdout",
     "output_type": "stream",
     "text": [
      "[nan '3' '3,4' '2' '1' '2,3,4' '1,2,3,4' '2,4' '1,2,4' '1,4' '1,2' '1,2,3'\n",
      " '1,3,4' '1,3' '4' '2,3']\n"
     ]
    }
   ],
   "source": [
    "# Look at the values for \"healthRiders\" variable\n",
    "print(df[\"healthRiders\"].unique())"
   ]
  },
  {
   "cell_type": "markdown",
   "metadata": {},
   "source": [
    "**Thinking process** <br>\n",
    "\n",
    "- After checking the values for \"healthRiders\", it seems like there 4 kinds of health rider, can perform one hot encoding"
   ]
  },
  {
   "cell_type": "code",
   "execution_count": 26,
   "metadata": {},
   "outputs": [
    {
     "name": "stdout",
     "output_type": "stream",
     "text": [
      "Unique values for categorical variables\n",
      "'variable name': [values]\n",
      "\n",
      "'healthInsurance': ['No', 'Class A', 'Class B']\n",
      "'hasKids': ['Yes', 'No']\n",
      "'healthRiders': [nan, '3', '3,4', '2', '1', '2,3,4', '1,2,3,4', '2,4', '1,2,4', '1,4', '1,2', '1,2,3', '1,3,4', '1,3', '4', '2,3']\n",
      "'multipleTermLifePolicies': ['No', 'Yes', 'no term life policy taken', 'term life policy not taken']\n",
      "'renewal': ['Y', 'N']\n",
      "'premiumFrequency': [12.0, 1.0, 3.0]\n",
      "'eStatements': ['Yes', 'No']\n",
      "'isMarried': ['Yes', 'No']\n",
      "'termLifeInsurance': ['Yes', 'No']\n",
      "'gender': ['F', 'M']\n",
      "'is45OrOlder': [0.0, 1.0]\n"
     ]
    }
   ],
   "source": [
    "# Creating lists for continuous and categorical variables \n",
    "continuous_vars = [\"insuredMonths\", \"monthlyPremium\", \"totalPremium\"] \n",
    "cat_vars = list(set(list(df.columns)).difference(set(continuous_vars)))\n",
    "\n",
    "print(\"Unique values for categorical variables\")\n",
    "print(f\"'variable name': [values]\\n\")\n",
    "for var in cat_vars:\n",
    "    print(f\"'{var}': {list(df[var].unique())}\")"
   ]
  },
  {
   "cell_type": "markdown",
   "metadata": {},
   "source": [
    "**Thinking process** <br>\n",
    "\n",
    "- Can perform label encoding for all the variables other than \"heathRiders\"\n",
    "- Looking at variable \"multipleTermLifePolicies\", the values ['no term life policy taken', 'term life policy not taken'] means \"No\". To replace these values before label encoding"
   ]
  },
  {
   "cell_type": "markdown",
   "metadata": {},
   "source": [
    "### Label encoding\n",
    "- In order to keep track which label correspond to which value, we will create a value to label ID mapping"
   ]
  },
  {
   "cell_type": "code",
   "execution_count": 27,
   "metadata": {},
   "outputs": [],
   "source": [
    "# Clean up the values in \"multipleTermLifePolicies\" variable\n",
    "df[\"multipleTermLifePolicies\"].replace('term life policy not taken', \"No\", inplace=True)\n",
    "df[\"multipleTermLifePolicies\"].replace('no term life policy taken', \"No\", inplace=True)"
   ]
  },
  {
   "cell_type": "code",
   "execution_count": 28,
   "metadata": {},
   "outputs": [
    {
     "name": "stdout",
     "output_type": "stream",
     "text": [
      "{'eStatements': {'No': 0, 'Yes': 1},\n",
      " 'gender': {'F': 0, 'M': 1},\n",
      " 'hasKids': {'No': 0, 'Yes': 1},\n",
      " 'healthInsurance': {'Class A': 0, 'Class B': 1, 'No': 2},\n",
      " 'is45OrOlder': {0.0: 0, 1.0: 1},\n",
      " 'isMarried': {'No': 0, 'Yes': 1},\n",
      " 'multipleTermLifePolicies': {'No': 0, 'Yes': 1},\n",
      " 'premiumFrequency': {1.0: 0, 3.0: 1, 12.0: 2},\n",
      " 'renewal': {'N': 0, 'Y': 1},\n",
      " 'termLifeInsurance': {'No': 0, 'Yes': 1}}\n"
     ]
    }
   ],
   "source": [
    "val2id = {}\n",
    "\n",
    "# Remove \"healthRiders\" variable from category list\n",
    "# since we will not perform label encoding on it\n",
    "cat_vars.remove(\"healthRiders\") \n",
    "\n",
    "for var in cat_vars:\n",
    "    if var != \"healthRiders\":\n",
    "        le = preprocessing.LabelEncoder()\n",
    "        df[var] = le.fit_transform(df[var])\n",
    "        val2id[var] = dict(zip(le.classes_, le.transform(le.classes_)))\n",
    "\n",
    "pprint(val2id)"
   ]
  },
  {
   "cell_type": "markdown",
   "metadata": {},
   "source": [
    "### One hot encoding"
   ]
  },
  {
   "cell_type": "code",
   "execution_count": 29,
   "metadata": {},
   "outputs": [],
   "source": [
    "# Create new columns for \"healthRider\" categories\n",
    "for i in range(1, 5):\n",
    "    df[f\"healthRider{i}\"] = 0\n",
    "    df[f\"healthRider{i}\"] = df[f\"healthRider{i}\"].astype(\"category\")\n",
    "    cat_vars.append(f\"healthRider{i}\")  # Update category variable list\n",
    "\n",
    "def health_rider_onehot_encode(row):\n",
    "    \"\"\"\n",
    "    Helper function to perform one hot encoding on \"healthRiders\" variable\n",
    "    \"\"\"\n",
    "    health_rider_str = row[\"healthRiders\"]\n",
    "\n",
    "    if type(health_rider_str) == str:\n",
    "        health_riders = health_rider_str.split(\",\")\n",
    "        for hr in health_riders:\n",
    "            row[f\"healthRider{hr}\"] = 1\n",
    "    \n",
    "    return row\n",
    "      \n",
    "df = df.apply(lambda x: health_rider_onehot_encode(x), axis=1)\n",
    "df = df.drop([\"healthRiders\"], axis=1)  # Remove \"healthRiders\" because not needed anymore"
   ]
  },
  {
   "cell_type": "markdown",
   "metadata": {},
   "source": [
    "### Convert variables to continuous data type"
   ]
  },
  {
   "cell_type": "code",
   "execution_count": 30,
   "metadata": {},
   "outputs": [],
   "source": [
    "df[\"monthlyPremium\"] = df.apply(lambda x: int(x[\"monthlyPremium\"].replace(',', '')) if x[\"monthlyPremium\"] != \" \" else 0, axis=1)\n",
    "df[\"totalPremium\"] = df.apply(lambda x: int(x[\"totalPremium\"].replace(',', '')) if x[\"totalPremium\"] != \" \" else 0, axis=1)"
   ]
  },
  {
   "cell_type": "code",
   "execution_count": 31,
   "metadata": {},
   "outputs": [
    {
     "data": {
      "text/html": [
       "<div>\n",
       "<style scoped>\n",
       "    .dataframe tbody tr th:only-of-type {\n",
       "        vertical-align: middle;\n",
       "    }\n",
       "\n",
       "    .dataframe tbody tr th {\n",
       "        vertical-align: top;\n",
       "    }\n",
       "\n",
       "    .dataframe thead th {\n",
       "        text-align: right;\n",
       "    }\n",
       "</style>\n",
       "<table border=\"1\" class=\"dataframe\">\n",
       "  <thead>\n",
       "    <tr style=\"text-align: right;\">\n",
       "      <th></th>\n",
       "      <th>gender</th>\n",
       "      <th>is45OrOlder</th>\n",
       "      <th>isMarried</th>\n",
       "      <th>hasKids</th>\n",
       "      <th>insuredMonths</th>\n",
       "      <th>termLifeInsurance</th>\n",
       "      <th>multipleTermLifePolicies</th>\n",
       "      <th>healthInsurance</th>\n",
       "      <th>premiumFrequency</th>\n",
       "      <th>eStatements</th>\n",
       "      <th>monthlyPremium</th>\n",
       "      <th>totalPremium</th>\n",
       "      <th>renewal</th>\n",
       "      <th>healthRider1</th>\n",
       "      <th>healthRider2</th>\n",
       "      <th>healthRider3</th>\n",
       "      <th>healthRider4</th>\n",
       "    </tr>\n",
       "  </thead>\n",
       "  <tbody>\n",
       "    <tr>\n",
       "      <th>0</th>\n",
       "      <td>0</td>\n",
       "      <td>0</td>\n",
       "      <td>1</td>\n",
       "      <td>1</td>\n",
       "      <td>23</td>\n",
       "      <td>1</td>\n",
       "      <td>0</td>\n",
       "      <td>2</td>\n",
       "      <td>2</td>\n",
       "      <td>1</td>\n",
       "      <td>1965</td>\n",
       "      <td>45155</td>\n",
       "      <td>1</td>\n",
       "      <td>0</td>\n",
       "      <td>0</td>\n",
       "      <td>0</td>\n",
       "      <td>0</td>\n",
       "    </tr>\n",
       "    <tr>\n",
       "      <th>1</th>\n",
       "      <td>0</td>\n",
       "      <td>1</td>\n",
       "      <td>0</td>\n",
       "      <td>0</td>\n",
       "      <td>42</td>\n",
       "      <td>1</td>\n",
       "      <td>1</td>\n",
       "      <td>0</td>\n",
       "      <td>0</td>\n",
       "      <td>1</td>\n",
       "      <td>8465</td>\n",
       "      <td>354135</td>\n",
       "      <td>0</td>\n",
       "      <td>0</td>\n",
       "      <td>0</td>\n",
       "      <td>1</td>\n",
       "      <td>0</td>\n",
       "    </tr>\n",
       "    <tr>\n",
       "      <th>2</th>\n",
       "      <td>0</td>\n",
       "      <td>0</td>\n",
       "      <td>1</td>\n",
       "      <td>0</td>\n",
       "      <td>72</td>\n",
       "      <td>1</td>\n",
       "      <td>0</td>\n",
       "      <td>2</td>\n",
       "      <td>2</td>\n",
       "      <td>0</td>\n",
       "      <td>194</td>\n",
       "      <td>149645</td>\n",
       "      <td>1</td>\n",
       "      <td>0</td>\n",
       "      <td>0</td>\n",
       "      <td>0</td>\n",
       "      <td>0</td>\n",
       "    </tr>\n",
       "    <tr>\n",
       "      <th>3</th>\n",
       "      <td>0</td>\n",
       "      <td>0</td>\n",
       "      <td>1</td>\n",
       "      <td>1</td>\n",
       "      <td>13</td>\n",
       "      <td>1</td>\n",
       "      <td>0</td>\n",
       "      <td>2</td>\n",
       "      <td>2</td>\n",
       "      <td>0</td>\n",
       "      <td>1955</td>\n",
       "      <td>2653</td>\n",
       "      <td>1</td>\n",
       "      <td>0</td>\n",
       "      <td>0</td>\n",
       "      <td>0</td>\n",
       "      <td>0</td>\n",
       "    </tr>\n",
       "    <tr>\n",
       "      <th>4</th>\n",
       "      <td>0</td>\n",
       "      <td>0</td>\n",
       "      <td>0</td>\n",
       "      <td>0</td>\n",
       "      <td>37</td>\n",
       "      <td>1</td>\n",
       "      <td>1</td>\n",
       "      <td>0</td>\n",
       "      <td>0</td>\n",
       "      <td>0</td>\n",
       "      <td>1003</td>\n",
       "      <td>35414</td>\n",
       "      <td>1</td>\n",
       "      <td>0</td>\n",
       "      <td>0</td>\n",
       "      <td>1</td>\n",
       "      <td>1</td>\n",
       "    </tr>\n",
       "  </tbody>\n",
       "</table>\n",
       "</div>"
      ],
      "text/plain": [
       "   gender  is45OrOlder  isMarried  hasKids  insuredMonths  termLifeInsurance  \\\n",
       "0       0            0          1        1             23                  1   \n",
       "1       0            1          0        0             42                  1   \n",
       "2       0            0          1        0             72                  1   \n",
       "3       0            0          1        1             13                  1   \n",
       "4       0            0          0        0             37                  1   \n",
       "\n",
       "   multipleTermLifePolicies  healthInsurance  premiumFrequency  eStatements  \\\n",
       "0                         0                2                 2            1   \n",
       "1                         1                0                 0            1   \n",
       "2                         0                2                 2            0   \n",
       "3                         0                2                 2            0   \n",
       "4                         1                0                 0            0   \n",
       "\n",
       "   monthlyPremium  totalPremium  renewal  healthRider1  healthRider2  \\\n",
       "0            1965         45155        1             0             0   \n",
       "1            8465        354135        0             0             0   \n",
       "2             194        149645        1             0             0   \n",
       "3            1955          2653        1             0             0   \n",
       "4            1003         35414        1             0             0   \n",
       "\n",
       "   healthRider3  healthRider4  \n",
       "0             0             0  \n",
       "1             1             0  \n",
       "2             0             0  \n",
       "3             0             0  \n",
       "4             1             1  "
      ]
     },
     "execution_count": 31,
     "metadata": {},
     "output_type": "execute_result"
    }
   ],
   "source": [
    "df.head()"
   ]
  },
  {
   "cell_type": "markdown",
   "metadata": {},
   "source": [
    "**Thinking process** <br>\n",
    "\n",
    "- Everything looks good now!\n",
    "- Now we can answer guiding questions 1 and 2"
   ]
  },
  {
   "cell_type": "code",
   "execution_count": null,
   "metadata": {},
   "outputs": [],
   "source": []
  }
 ],
 "metadata": {
  "kernelspec": {
   "display_name": "Python 3.8.9 64-bit",
   "language": "python",
   "name": "python3"
  },
  "language_info": {
   "codemirror_mode": {
    "name": "ipython",
    "version": 3
   },
   "file_extension": ".py",
   "mimetype": "text/x-python",
   "name": "python",
   "nbconvert_exporter": "python",
   "pygments_lexer": "ipython3",
   "version": "3.8.9"
  },
  "orig_nbformat": 4,
  "vscode": {
   "interpreter": {
    "hash": "31f2aee4e71d21fbe5cf8b01ff0e069b9275f58929596ceb00d14d90e3e16cd6"
   }
  }
 },
 "nbformat": 4,
 "nbformat_minor": 2
}
